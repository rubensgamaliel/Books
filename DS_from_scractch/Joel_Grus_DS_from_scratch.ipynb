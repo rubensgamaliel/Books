{
  "nbformat": 4,
  "nbformat_minor": 0,
  "metadata": {
    "colab": {
      "name": "Joel_Grus_DS_from_scratch.ipynb",
      "provenance": [],
      "authorship_tag": "ABX9TyPsCER6k+Bt7IFmJukMhvUb",
      "include_colab_link": true
    },
    "kernelspec": {
      "name": "python3",
      "display_name": "Python 3"
    }
  },
  "cells": [
    {
      "cell_type": "markdown",
      "metadata": {
        "id": "view-in-github",
        "colab_type": "text"
      },
      "source": [
        "<a href=\"https://colab.research.google.com/github/rubensgamaliel/Books/blob/main/DS_from_scractch/Joel_Grus_DS_from_scratch.ipynb\" target=\"_parent\"><img src=\"https://colab.research.google.com/assets/colab-badge.svg\" alt=\"Open In Colab\"/></a>"
      ]
    },
    {
      "cell_type": "code",
      "metadata": {
        "colab": {
          "base_uri": "https://localhost:8080/"
        },
        "id": "EjknF4prwKOT",
        "outputId": "50c24673-42bf-4660-e6d6-3d84022b7aad"
      },
      "source": [
        "0 and []"
      ],
      "execution_count": 1,
      "outputs": [
        {
          "output_type": "execute_result",
          "data": {
            "text/plain": [
              "0"
            ]
          },
          "metadata": {
            "tags": []
          },
          "execution_count": 1
        }
      ]
    },
    {
      "cell_type": "code",
      "metadata": {
        "colab": {
          "base_uri": "https://localhost:8080/"
        },
        "id": "GHiPiyFJwMPk",
        "outputId": "7f359847-7dfd-4d6b-f2e4-de2c40e6a9bb"
      },
      "source": [
        "s=[]\r\n",
        "0 and s[0]"
      ],
      "execution_count": 3,
      "outputs": [
        {
          "output_type": "execute_result",
          "data": {
            "text/plain": [
              "0"
            ]
          },
          "metadata": {
            "tags": []
          },
          "execution_count": 3
        }
      ]
    },
    {
      "cell_type": "code",
      "metadata": {
        "colab": {
          "base_uri": "https://localhost:8080/",
          "height": 163
        },
        "id": "eOX5DQ9qwSBG",
        "outputId": "8ab7a517-905f-4aa4-a6bc-a634a2c9507a"
      },
      "source": [
        "0 or s[0]"
      ],
      "execution_count": 4,
      "outputs": [
        {
          "output_type": "error",
          "ename": "IndexError",
          "evalue": "ignored",
          "traceback": [
            "\u001b[0;31m---------------------------------------------------------------------------\u001b[0m",
            "\u001b[0;31mIndexError\u001b[0m                                Traceback (most recent call last)",
            "\u001b[0;32m<ipython-input-4-15eee8bc2301>\u001b[0m in \u001b[0;36m<module>\u001b[0;34m()\u001b[0m\n\u001b[0;32m----> 1\u001b[0;31m \u001b[0;36m0\u001b[0m \u001b[0;32mor\u001b[0m \u001b[0ms\u001b[0m\u001b[0;34m[\u001b[0m\u001b[0;36m0\u001b[0m\u001b[0;34m]\u001b[0m\u001b[0;34m\u001b[0m\u001b[0;34m\u001b[0m\u001b[0m\n\u001b[0m",
            "\u001b[0;31mIndexError\u001b[0m: list index out of range"
          ]
        }
      ]
    },
    {
      "cell_type": "markdown",
      "metadata": {
        "id": "9HslfOwdxcWl"
      },
      "source": [
        "Compressão de lista"
      ]
    },
    {
      "cell_type": "code",
      "metadata": {
        "colab": {
          "base_uri": "https://localhost:8080/"
        },
        "id": "dCPsdZGhwW4a",
        "outputId": "37fa45a5-43d2-43b3-9164-2fcbb02644e8"
      },
      "source": [
        "even_numbers = [x for x in range(5) if x%2==0]\r\n",
        "even_numbers"
      ],
      "execution_count": 6,
      "outputs": [
        {
          "output_type": "execute_result",
          "data": {
            "text/plain": [
              "[0, 2, 4]"
            ]
          },
          "metadata": {
            "tags": []
          },
          "execution_count": 6
        }
      ]
    },
    {
      "cell_type": "code",
      "metadata": {
        "colab": {
          "base_uri": "https://localhost:8080/"
        },
        "id": "XUaQe47xxldc",
        "outputId": "7e195eea-fe86-452e-c02e-48ce9fa6ebdb"
      },
      "source": [
        "squares = [x*x for x in range(5)]\r\n",
        "squares"
      ],
      "execution_count": 7,
      "outputs": [
        {
          "output_type": "execute_result",
          "data": {
            "text/plain": [
              "[0, 1, 4, 9, 16]"
            ]
          },
          "metadata": {
            "tags": []
          },
          "execution_count": 7
        }
      ]
    },
    {
      "cell_type": "code",
      "metadata": {
        "colab": {
          "base_uri": "https://localhost:8080/"
        },
        "id": "rq1IVK-Xx2yZ",
        "outputId": "a63cbe9b-b87e-4341-ca8a-26925a4dc984"
      },
      "source": [
        "even_squares = [x*x for x in even_numbers]\r\n",
        "even_squares"
      ],
      "execution_count": 9,
      "outputs": [
        {
          "output_type": "execute_result",
          "data": {
            "text/plain": [
              "[0, 4, 16]"
            ]
          },
          "metadata": {
            "tags": []
          },
          "execution_count": 9
        }
      ]
    },
    {
      "cell_type": "code",
      "metadata": {
        "colab": {
          "base_uri": "https://localhost:8080/"
        },
        "id": "n7XemRd9x8Qv",
        "outputId": "62a3afcd-7591-4412-9f20-840bfe935166"
      },
      "source": [
        "square_dict=  {x:x*x for x in range(5)}\r\n",
        "square_dict"
      ],
      "execution_count": 11,
      "outputs": [
        {
          "output_type": "execute_result",
          "data": {
            "text/plain": [
              "{0: 0, 1: 1, 2: 4, 3: 9, 4: 16}"
            ]
          },
          "metadata": {
            "tags": []
          },
          "execution_count": 11
        }
      ]
    },
    {
      "cell_type": "code",
      "metadata": {
        "colab": {
          "base_uri": "https://localhost:8080/"
        },
        "id": "i9Fvz1DXyHi0",
        "outputId": "d1141c9b-3582-4800-e2be-8091a3f27943"
      },
      "source": [
        "square_set ={x*x for x in [1,-1]}\r\n",
        "square_set"
      ],
      "execution_count": 15,
      "outputs": [
        {
          "output_type": "execute_result",
          "data": {
            "text/plain": [
              "{1}"
            ]
          },
          "metadata": {
            "tags": []
          },
          "execution_count": 15
        }
      ]
    },
    {
      "cell_type": "code",
      "metadata": {
        "colab": {
          "base_uri": "https://localhost:8080/"
        },
        "id": "d2Sp5LI2yTPL",
        "outputId": "7f77b7ea-5dd0-4db4-db22-b128269cd215"
      },
      "source": [
        "zeroes = [0 for _ in even_numbers]\r\n",
        "zeroes"
      ],
      "execution_count": 16,
      "outputs": [
        {
          "output_type": "execute_result",
          "data": {
            "text/plain": [
              "[0, 0, 0]"
            ]
          },
          "metadata": {
            "tags": []
          },
          "execution_count": 16
        }
      ]
    },
    {
      "cell_type": "code",
      "metadata": {
        "colab": {
          "base_uri": "https://localhost:8080/"
        },
        "id": "OE0ri0WhyuIC",
        "outputId": "69b8f180-d5cd-462b-d476-a82c721a0d7d"
      },
      "source": [
        "pairs = [(x, y)\r\n",
        "        for x in range(2)\r\n",
        "        for y in range(3)]\r\n",
        "pairs"
      ],
      "execution_count": 19,
      "outputs": [
        {
          "output_type": "execute_result",
          "data": {
            "text/plain": [
              "[(0, 0), (0, 1), (0, 2), (1, 0), (1, 1), (1, 2)]"
            ]
          },
          "metadata": {
            "tags": []
          },
          "execution_count": 19
        }
      ]
    },
    {
      "cell_type": "code",
      "metadata": {
        "colab": {
          "base_uri": "https://localhost:8080/"
        },
        "id": "yB9hmapry-9X",
        "outputId": "4ea344b3-0194-4ea2-8c26-057d767b438b"
      },
      "source": [
        "pairs[0]"
      ],
      "execution_count": 20,
      "outputs": [
        {
          "output_type": "execute_result",
          "data": {
            "text/plain": [
              "(0, 0)"
            ]
          },
          "metadata": {
            "tags": []
          },
          "execution_count": 20
        }
      ]
    },
    {
      "cell_type": "code",
      "metadata": {
        "colab": {
          "base_uri": "https://localhost:8080/"
        },
        "id": "uml1yJcOzf-U",
        "outputId": "5df2a6bc-f88a-460e-9766-c6afa4f72297"
      },
      "source": [
        "increasing_pairs = [(x, y) # only pairs with x < y,\r\n",
        "                   for x in range(2) # range(lo, hi) equals\r\n",
        "                   for y in range(x + 1, 4)] # [lo, lo + 1, ..., hi - 1]\r\n",
        "increasing_pairs"
      ],
      "execution_count": 24,
      "outputs": [
        {
          "output_type": "execute_result",
          "data": {
            "text/plain": [
              "[(0, 1), (0, 2), (0, 3), (1, 2), (1, 3)]"
            ]
          },
          "metadata": {
            "tags": []
          },
          "execution_count": 24
        }
      ]
    },
    {
      "cell_type": "code",
      "metadata": {
        "id": "2pSfJTp22RJk"
      },
      "source": [
        "def lazy_range(n):\r\n",
        "  '''a lazy version of range'''\r\n",
        "  i=0\r\n",
        "  while i<n:\r\n",
        "    yield i\r\n",
        "    i+=1"
      ],
      "execution_count": 30,
      "outputs": []
    },
    {
      "cell_type": "code",
      "metadata": {
        "colab": {
          "base_uri": "https://localhost:8080/"
        },
        "id": "ybaJ5HWR2t-s",
        "outputId": "1e366cd1-4793-45b1-e0c6-210d5fa86529"
      },
      "source": [
        "for i in lazy_range(10):\r\n",
        "  print(i)"
      ],
      "execution_count": 31,
      "outputs": [
        {
          "output_type": "stream",
          "text": [
            "0\n",
            "1\n",
            "2\n",
            "3\n",
            "4\n",
            "5\n",
            "6\n",
            "7\n",
            "8\n",
            "9\n"
          ],
          "name": "stdout"
        }
      ]
    },
    {
      "cell_type": "code",
      "metadata": {
        "id": "Ji6TDdAR3DqO"
      },
      "source": [
        "def natural_numbers():\r\n",
        "  \"\"\"returns 1, 2, 3, ...\"\"\"\r\n",
        "  n = 1\r\n",
        "  while True:\r\n",
        "    yield n\r\n",
        "    n += 1"
      ],
      "execution_count": 32,
      "outputs": []
    },
    {
      "cell_type": "code",
      "metadata": {
        "colab": {
          "base_uri": "https://localhost:8080/"
        },
        "id": "DYIuYf2u615S",
        "outputId": "720900d8-2789-4ffb-fd1b-8e0b1fdd4af6"
      },
      "source": [
        "natural_numbers()"
      ],
      "execution_count": 34,
      "outputs": [
        {
          "output_type": "execute_result",
          "data": {
            "text/plain": [
              "<generator object natural_numbers at 0x7fbd1c33a2b0>"
            ]
          },
          "metadata": {
            "tags": []
          },
          "execution_count": 34
        }
      ]
    },
    {
      "cell_type": "markdown",
      "metadata": {
        "id": "mOYn7OhD7O6L"
      },
      "source": [
        "Randomness"
      ]
    },
    {
      "cell_type": "code",
      "metadata": {
        "id": "8fmmK5vG63xc"
      },
      "source": [
        "import random"
      ],
      "execution_count": 35,
      "outputs": []
    },
    {
      "cell_type": "code",
      "metadata": {
        "colab": {
          "base_uri": "https://localhost:8080/"
        },
        "id": "LuhApYCQ7TFs",
        "outputId": "ede10f01-365b-42c7-f0eb-5b3e3f66bf4e"
      },
      "source": [
        "four_uniform_randoms=[random.random() for _ in range(4)]\r\n",
        "four_uniform_randoms"
      ],
      "execution_count": 37,
      "outputs": [
        {
          "output_type": "execute_result",
          "data": {
            "text/plain": [
              "[0.603541499321698,\n",
              " 0.36795555245178646,\n",
              " 0.5620888338441443,\n",
              " 0.29751556567342075]"
            ]
          },
          "metadata": {
            "tags": []
          },
          "execution_count": 37
        }
      ]
    },
    {
      "cell_type": "code",
      "metadata": {
        "colab": {
          "base_uri": "https://localhost:8080/"
        },
        "id": "nu26tFHp7cKS",
        "outputId": "919d8590-719a-4d1a-877f-37f35f466821"
      },
      "source": [
        "random.randrange(10)\r\n"
      ],
      "execution_count": 38,
      "outputs": [
        {
          "output_type": "execute_result",
          "data": {
            "text/plain": [
              "9"
            ]
          },
          "metadata": {
            "tags": []
          },
          "execution_count": 38
        }
      ]
    },
    {
      "cell_type": "code",
      "metadata": {
        "colab": {
          "base_uri": "https://localhost:8080/"
        },
        "id": "sgZjRFSC7yk8",
        "outputId": "8487fb71-b4e0-410b-d4dc-9ea29b90b50d"
      },
      "source": [
        "random.randrange(3,6)"
      ],
      "execution_count": 39,
      "outputs": [
        {
          "output_type": "execute_result",
          "data": {
            "text/plain": [
              "4"
            ]
          },
          "metadata": {
            "tags": []
          },
          "execution_count": 39
        }
      ]
    },
    {
      "cell_type": "code",
      "metadata": {
        "colab": {
          "base_uri": "https://localhost:8080/",
          "height": 316
        },
        "id": "ChFUo54w7zHL",
        "outputId": "3a24cdf3-1a06-460d-c0e1-36ae77beeb02"
      },
      "source": [
        "up_to_ten = range(10)\r\n",
        "random.shuffle( range(10))\r\n",
        "print (up_to_ten)"
      ],
      "execution_count": 44,
      "outputs": [
        {
          "output_type": "error",
          "ename": "TypeError",
          "evalue": "ignored",
          "traceback": [
            "\u001b[0;31m---------------------------------------------------------------------------\u001b[0m",
            "\u001b[0;31mTypeError\u001b[0m                                 Traceback (most recent call last)",
            "\u001b[0;32m<ipython-input-44-8323259e8c88>\u001b[0m in \u001b[0;36m<module>\u001b[0;34m()\u001b[0m\n\u001b[1;32m      1\u001b[0m \u001b[0mup_to_ten\u001b[0m \u001b[0;34m=\u001b[0m \u001b[0mrange\u001b[0m\u001b[0;34m(\u001b[0m\u001b[0;36m10\u001b[0m\u001b[0;34m)\u001b[0m\u001b[0;34m\u001b[0m\u001b[0;34m\u001b[0m\u001b[0m\n\u001b[0;32m----> 2\u001b[0;31m \u001b[0mrandom\u001b[0m\u001b[0;34m.\u001b[0m\u001b[0mshuffle\u001b[0m\u001b[0;34m(\u001b[0m \u001b[0mrange\u001b[0m\u001b[0;34m(\u001b[0m\u001b[0;36m10\u001b[0m\u001b[0;34m)\u001b[0m\u001b[0;34m)\u001b[0m\u001b[0;34m\u001b[0m\u001b[0;34m\u001b[0m\u001b[0m\n\u001b[0m\u001b[1;32m      3\u001b[0m \u001b[0mprint\u001b[0m \u001b[0;34m(\u001b[0m\u001b[0mup_to_ten\u001b[0m\u001b[0;34m)\u001b[0m\u001b[0;34m\u001b[0m\u001b[0;34m\u001b[0m\u001b[0m\n",
            "\u001b[0;32m/usr/lib/python3.6/random.py\u001b[0m in \u001b[0;36mshuffle\u001b[0;34m(self, x, random)\u001b[0m\n\u001b[1;32m    275\u001b[0m                 \u001b[0;31m# pick an element in x[:i+1] with which to exchange x[i]\u001b[0m\u001b[0;34m\u001b[0m\u001b[0;34m\u001b[0m\u001b[0;34m\u001b[0m\u001b[0m\n\u001b[1;32m    276\u001b[0m                 \u001b[0mj\u001b[0m \u001b[0;34m=\u001b[0m \u001b[0mrandbelow\u001b[0m\u001b[0;34m(\u001b[0m\u001b[0mi\u001b[0m\u001b[0;34m+\u001b[0m\u001b[0;36m1\u001b[0m\u001b[0;34m)\u001b[0m\u001b[0;34m\u001b[0m\u001b[0;34m\u001b[0m\u001b[0m\n\u001b[0;32m--> 277\u001b[0;31m                 \u001b[0mx\u001b[0m\u001b[0;34m[\u001b[0m\u001b[0mi\u001b[0m\u001b[0;34m]\u001b[0m\u001b[0;34m,\u001b[0m \u001b[0mx\u001b[0m\u001b[0;34m[\u001b[0m\u001b[0mj\u001b[0m\u001b[0;34m]\u001b[0m \u001b[0;34m=\u001b[0m \u001b[0mx\u001b[0m\u001b[0;34m[\u001b[0m\u001b[0mj\u001b[0m\u001b[0;34m]\u001b[0m\u001b[0;34m,\u001b[0m \u001b[0mx\u001b[0m\u001b[0;34m[\u001b[0m\u001b[0mi\u001b[0m\u001b[0;34m]\u001b[0m\u001b[0;34m\u001b[0m\u001b[0;34m\u001b[0m\u001b[0m\n\u001b[0m\u001b[1;32m    278\u001b[0m         \u001b[0;32melse\u001b[0m\u001b[0;34m:\u001b[0m\u001b[0;34m\u001b[0m\u001b[0;34m\u001b[0m\u001b[0m\n\u001b[1;32m    279\u001b[0m             \u001b[0m_int\u001b[0m \u001b[0;34m=\u001b[0m \u001b[0mint\u001b[0m\u001b[0;34m\u001b[0m\u001b[0;34m\u001b[0m\u001b[0m\n",
            "\u001b[0;31mTypeError\u001b[0m: 'range' object does not support item assignment"
          ]
        }
      ]
    },
    {
      "cell_type": "markdown",
      "metadata": {
        "id": "_iv4JmhZ9-Hs"
      },
      "source": [
        "Ferramentas funcionais"
      ]
    },
    {
      "cell_type": "code",
      "metadata": {
        "id": "ESzlytPJ8qnS"
      },
      "source": [
        "def exp(base,power):\r\n",
        "  return base**power"
      ],
      "execution_count": 45,
      "outputs": []
    },
    {
      "cell_type": "code",
      "metadata": {
        "id": "_sFHpE8m-1b0"
      },
      "source": [
        "def two_to_the(power):\r\n",
        "  return exp(2,power)"
      ],
      "execution_count": 46,
      "outputs": []
    },
    {
      "cell_type": "code",
      "metadata": {
        "colab": {
          "base_uri": "https://localhost:8080/"
        },
        "id": "fRHSiVPK-7Ow",
        "outputId": "ece7e3ca-2268-4bbb-ace7-0c6df7c550e9"
      },
      "source": [
        "two_to_the(4)"
      ],
      "execution_count": 48,
      "outputs": [
        {
          "output_type": "execute_result",
          "data": {
            "text/plain": [
              "16"
            ]
          },
          "metadata": {
            "tags": []
          },
          "execution_count": 48
        }
      ]
    },
    {
      "cell_type": "code",
      "metadata": {
        "id": "NMBc3XBn-9iq"
      },
      "source": [
        "dois_elevado=lambda x:exp(2,x)"
      ],
      "execution_count": 49,
      "outputs": []
    },
    {
      "cell_type": "code",
      "metadata": {
        "colab": {
          "base_uri": "https://localhost:8080/"
        },
        "id": "QVnBdc2T_JcG",
        "outputId": "7a75ee89-dd75-4239-bded-7c9d89c36b3c"
      },
      "source": [
        "dois_elevado(4)"
      ],
      "execution_count": 50,
      "outputs": [
        {
          "output_type": "execute_result",
          "data": {
            "text/plain": [
              "16"
            ]
          },
          "metadata": {
            "tags": []
          },
          "execution_count": 50
        }
      ]
    },
    {
      "cell_type": "code",
      "metadata": {
        "id": "PSfwt50E_LSB"
      },
      "source": [
        "from functools import partial"
      ],
      "execution_count": 51,
      "outputs": []
    },
    {
      "cell_type": "code",
      "metadata": {
        "colab": {
          "base_uri": "https://localhost:8080/"
        },
        "id": "_b1yXpM3_Oiu",
        "outputId": "4238aeaa-5045-4009-f243-1ff5a69e5c9d"
      },
      "source": [
        "two_to_the = partial(exp, 2) # is now a function of one variable\r\n",
        "print (two_to_the(3)) # 8"
      ],
      "execution_count": 53,
      "outputs": [
        {
          "output_type": "stream",
          "text": [
            "8\n"
          ],
          "name": "stdout"
        }
      ]
    },
    {
      "cell_type": "code",
      "metadata": {
        "colab": {
          "base_uri": "https://localhost:8080/"
        },
        "id": "XEYB-GMm_Sj6",
        "outputId": "4b0c264d-ae6a-46e6-f5f6-23e17b58af9a"
      },
      "source": [
        "def double(x):\r\n",
        "  return 2 * x\r\n",
        "xs = [1, 2, 3, 4]\r\n",
        "twice_xs = [double(x) for x in xs] # [2, 4, 6, 8]\r\n",
        "twice_xs"
      ],
      "execution_count": 61,
      "outputs": [
        {
          "output_type": "execute_result",
          "data": {
            "text/plain": [
              "[2, 4, 6, 8]"
            ]
          },
          "metadata": {
            "tags": []
          },
          "execution_count": 61
        }
      ]
    },
    {
      "cell_type": "code",
      "metadata": {
        "colab": {
          "base_uri": "https://localhost:8080/"
        },
        "id": "OwvpZ-im_je1",
        "outputId": "a543b48c-8530-44c9-f685-36e26cd6ac92"
      },
      "source": [
        "twice_xs = list(map(double, xs)) # same as above\r\n",
        "twice_xs"
      ],
      "execution_count": 64,
      "outputs": [
        {
          "output_type": "execute_result",
          "data": {
            "text/plain": [
              "[2, 4, 6, 8]"
            ]
          },
          "metadata": {
            "tags": []
          },
          "execution_count": 64
        }
      ]
    },
    {
      "cell_type": "code",
      "metadata": {
        "colab": {
          "base_uri": "https://localhost:8080/"
        },
        "id": "eFhd8u1S_leo",
        "outputId": "0b031688-fe22-47a5-d9e6-e4a680c53d98"
      },
      "source": [
        "list_doubler = partial(map, double) # *function* that doubles a list\r\n",
        "twice_xs = list_doubler(xs) # again [2, 4, 6, 8]\r\n",
        "list(twice_xs)"
      ],
      "execution_count": 70,
      "outputs": [
        {
          "output_type": "execute_result",
          "data": {
            "text/plain": [
              "[2, 4, 6, 8]"
            ]
          },
          "metadata": {
            "tags": []
          },
          "execution_count": 70
        }
      ]
    },
    {
      "cell_type": "code",
      "metadata": {
        "colab": {
          "base_uri": "https://localhost:8080/"
        },
        "id": "i-cUC89B_uHW",
        "outputId": "0f3b2fac-5230-4396-b909-5b1f12dffc24"
      },
      "source": [
        "list(twice_xs)"
      ],
      "execution_count": 69,
      "outputs": [
        {
          "output_type": "execute_result",
          "data": {
            "text/plain": [
              "[2, 4, 6, 8]"
            ]
          },
          "metadata": {
            "tags": []
          },
          "execution_count": 69
        }
      ]
    },
    {
      "cell_type": "code",
      "metadata": {
        "colab": {
          "base_uri": "https://localhost:8080/"
        },
        "id": "cSG935Kc_wEv",
        "outputId": "d47d7c11-b891-4684-cd3c-3d6148e38291"
      },
      "source": [
        "def multiply(x, y): return x * y\r\n",
        "products = map(multiply, [1, 2], [4, 5]) # [1 * 4, 2 * 5] = [4, 10]\r\n",
        "list(products)"
      ],
      "execution_count": 68,
      "outputs": [
        {
          "output_type": "execute_result",
          "data": {
            "text/plain": [
              "[4, 10]"
            ]
          },
          "metadata": {
            "tags": []
          },
          "execution_count": 68
        }
      ]
    },
    {
      "cell_type": "code",
      "metadata": {
        "id": "RHp0FHToAT0v"
      },
      "source": [
        ""
      ],
      "execution_count": null,
      "outputs": []
    }
  ]
}