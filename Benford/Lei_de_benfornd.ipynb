{
  "nbformat": 4,
  "nbformat_minor": 0,
  "metadata": {
    "colab": {
      "name": "Lei de benfornd.ipynb",
      "provenance": [],
      "authorship_tag": "ABX9TyPlHiVaxlK4oIRq+hiKPmVD",
      "include_colab_link": true
    },
    "kernelspec": {
      "name": "python3",
      "display_name": "Python 3"
    }
  },
  "cells": [
    {
      "cell_type": "markdown",
      "metadata": {
        "id": "view-in-github",
        "colab_type": "text"
      },
      "source": [
        "<a href=\"https://colab.research.google.com/github/rubensgamaliel/Books/blob/main/Benford/Lei_de_benfornd.ipynb\" target=\"_parent\"><img src=\"https://colab.research.google.com/assets/colab-badge.svg\" alt=\"Open In Colab\"/></a>"
      ]
    },
    {
      "cell_type": "code",
      "metadata": {
        "colab": {
          "base_uri": "https://localhost:8080/"
        },
        "id": "ouA_tR0ograO",
        "outputId": "a5870cb6-fbdf-4baa-d06d-e286e0804cf3"
      },
      "source": [
        "!python --version"
      ],
      "execution_count": 1,
      "outputs": [
        {
          "output_type": "stream",
          "text": [
            "Python 3.6.9\n"
          ],
          "name": "stdout"
        }
      ]
    },
    {
      "cell_type": "code",
      "metadata": {
        "id": "AI6E_cEti-cK"
      },
      "source": [
        "import pandas as pd\r\n",
        "import matplotlib.pyplot as plt\r\n"
      ],
      "execution_count": 68,
      "outputs": []
    },
    {
      "cell_type": "code",
      "metadata": {
        "id": "3pG2QdJj7DSV"
      },
      "source": [
        "end_aluguel='/content/alugueis_br.csv'"
      ],
      "execution_count": 3,
      "outputs": []
    },
    {
      "cell_type": "code",
      "metadata": {
        "id": "4xYpoCK58D-v"
      },
      "source": [
        "end_covid='/content/covid_mundo.csv'\r\n",
        "end_ecommerce_1='/content/ecommerce_1.csv'\r\n",
        "end_ecommerce_2='/content/ecommerce_2.csv'\r\n",
        "end_livros='/content/livros.csv'\r\n",
        "end_youtube='/content/youtube.csv'"
      ],
      "execution_count": 4,
      "outputs": []
    },
    {
      "cell_type": "code",
      "metadata": {
        "id": "5HvrXn128pA-"
      },
      "source": [
        "df_aluguel=pd.read_csv(end_aluguel)\r\n",
        "df_covid=pd.read_csv(end_covid)\r\n",
        "df_ecommerce_1=pd.read_csv(end_ecommerce_1)\r\n",
        "df_ecommerce_2=pd.read_csv(end_ecommerce_2)\r\n",
        "df_livros=pd.read_csv(end_livros)\r\n",
        "df_youtube=pd.read_csv(end_youtube)"
      ],
      "execution_count": 6,
      "outputs": []
    },
    {
      "cell_type": "code",
      "metadata": {
        "colab": {
          "base_uri": "https://localhost:8080/",
          "height": 297
        },
        "id": "cnq5xd498wxT",
        "outputId": "e32d79d2-9c73-41d3-bb9b-590883d3ba73"
      },
      "source": [
        "df_youtube.describe()"
      ],
      "execution_count": 8,
      "outputs": [
        {
          "output_type": "execute_result",
          "data": {
            "text/html": [
              "<div>\n",
              "<style scoped>\n",
              "    .dataframe tbody tr th:only-of-type {\n",
              "        vertical-align: middle;\n",
              "    }\n",
              "\n",
              "    .dataframe tbody tr th {\n",
              "        vertical-align: top;\n",
              "    }\n",
              "\n",
              "    .dataframe thead th {\n",
              "        text-align: right;\n",
              "    }\n",
              "</style>\n",
              "<table border=\"1\" class=\"dataframe\">\n",
              "  <thead>\n",
              "    <tr style=\"text-align: right;\">\n",
              "      <th></th>\n",
              "      <th>views</th>\n",
              "      <th>likes</th>\n",
              "      <th>dislikes</th>\n",
              "      <th>comment_count</th>\n",
              "    </tr>\n",
              "  </thead>\n",
              "  <tbody>\n",
              "    <tr>\n",
              "      <th>count</th>\n",
              "      <td>4.094900e+04</td>\n",
              "      <td>4.094900e+04</td>\n",
              "      <td>4.094900e+04</td>\n",
              "      <td>4.094900e+04</td>\n",
              "    </tr>\n",
              "    <tr>\n",
              "      <th>mean</th>\n",
              "      <td>2.360785e+06</td>\n",
              "      <td>7.426670e+04</td>\n",
              "      <td>3.711401e+03</td>\n",
              "      <td>8.446804e+03</td>\n",
              "    </tr>\n",
              "    <tr>\n",
              "      <th>std</th>\n",
              "      <td>7.394114e+06</td>\n",
              "      <td>2.288853e+05</td>\n",
              "      <td>2.902971e+04</td>\n",
              "      <td>3.743049e+04</td>\n",
              "    </tr>\n",
              "    <tr>\n",
              "      <th>min</th>\n",
              "      <td>5.490000e+02</td>\n",
              "      <td>0.000000e+00</td>\n",
              "      <td>0.000000e+00</td>\n",
              "      <td>0.000000e+00</td>\n",
              "    </tr>\n",
              "    <tr>\n",
              "      <th>25%</th>\n",
              "      <td>2.423290e+05</td>\n",
              "      <td>5.424000e+03</td>\n",
              "      <td>2.020000e+02</td>\n",
              "      <td>6.140000e+02</td>\n",
              "    </tr>\n",
              "    <tr>\n",
              "      <th>50%</th>\n",
              "      <td>6.818610e+05</td>\n",
              "      <td>1.809100e+04</td>\n",
              "      <td>6.310000e+02</td>\n",
              "      <td>1.856000e+03</td>\n",
              "    </tr>\n",
              "    <tr>\n",
              "      <th>75%</th>\n",
              "      <td>1.823157e+06</td>\n",
              "      <td>5.541700e+04</td>\n",
              "      <td>1.938000e+03</td>\n",
              "      <td>5.755000e+03</td>\n",
              "    </tr>\n",
              "    <tr>\n",
              "      <th>max</th>\n",
              "      <td>2.252119e+08</td>\n",
              "      <td>5.613827e+06</td>\n",
              "      <td>1.674420e+06</td>\n",
              "      <td>1.361580e+06</td>\n",
              "    </tr>\n",
              "  </tbody>\n",
              "</table>\n",
              "</div>"
            ],
            "text/plain": [
              "              views         likes      dislikes  comment_count\n",
              "count  4.094900e+04  4.094900e+04  4.094900e+04   4.094900e+04\n",
              "mean   2.360785e+06  7.426670e+04  3.711401e+03   8.446804e+03\n",
              "std    7.394114e+06  2.288853e+05  2.902971e+04   3.743049e+04\n",
              "min    5.490000e+02  0.000000e+00  0.000000e+00   0.000000e+00\n",
              "25%    2.423290e+05  5.424000e+03  2.020000e+02   6.140000e+02\n",
              "50%    6.818610e+05  1.809100e+04  6.310000e+02   1.856000e+03\n",
              "75%    1.823157e+06  5.541700e+04  1.938000e+03   5.755000e+03\n",
              "max    2.252119e+08  5.613827e+06  1.674420e+06   1.361580e+06"
            ]
          },
          "metadata": {
            "tags": []
          },
          "execution_count": 8
        }
      ]
    },
    {
      "cell_type": "code",
      "metadata": {
        "id": "EPf9509X9MK8"
      },
      "source": [
        "def primeiro_digito(numero):\r\n",
        "  return str(numero)[0]"
      ],
      "execution_count": 9,
      "outputs": []
    },
    {
      "cell_type": "code",
      "metadata": {
        "colab": {
          "base_uri": "https://localhost:8080/",
          "height": 35
        },
        "id": "uNb_88i9CNf-",
        "outputId": "fff354fd-64c5-4a11-f4e8-fbc35209d204"
      },
      "source": [
        "primeiro_digito(123)"
      ],
      "execution_count": 10,
      "outputs": [
        {
          "output_type": "execute_result",
          "data": {
            "application/vnd.google.colaboratory.intrinsic+json": {
              "type": "string"
            },
            "text/plain": [
              "'1'"
            ]
          },
          "metadata": {
            "tags": []
          },
          "execution_count": 10
        }
      ]
    },
    {
      "cell_type": "code",
      "metadata": {
        "colab": {
          "base_uri": "https://localhost:8080/"
        },
        "id": "6XGikpHvCP_h",
        "outputId": "d558a015-cf22-481e-e02e-8638313b21c2"
      },
      "source": [
        "df_youtube['likes']"
      ],
      "execution_count": 11,
      "outputs": [
        {
          "output_type": "execute_result",
          "data": {
            "text/plain": [
              "0         57527\n",
              "1         97185\n",
              "2        146033\n",
              "3         10172\n",
              "4        132235\n",
              "          ...  \n",
              "40944     38160\n",
              "40945     60008\n",
              "40946     48068\n",
              "40947    192957\n",
              "40948    357079\n",
              "Name: likes, Length: 40949, dtype: int64"
            ]
          },
          "metadata": {
            "tags": []
          },
          "execution_count": 11
        }
      ]
    },
    {
      "cell_type": "code",
      "metadata": {
        "id": "-88q5eFGCYJL"
      },
      "source": [
        "df_youtube_primeiro_digito=df_youtube['likes'].apply(primeiro_digito)"
      ],
      "execution_count": 13,
      "outputs": []
    },
    {
      "cell_type": "code",
      "metadata": {
        "colab": {
          "base_uri": "https://localhost:8080/"
        },
        "id": "J3taWfpuChcd",
        "outputId": "27ef25b9-abc7-4c8e-89f5-259bab8ad0be"
      },
      "source": [
        "df_youtube_primeiro_digito.value_counts()"
      ],
      "execution_count": 16,
      "outputs": [
        {
          "output_type": "execute_result",
          "data": {
            "text/plain": [
              "1    12970\n",
              "2     6983\n",
              "3     5063\n",
              "4     3963\n",
              "5     3240\n",
              "6     2532\n",
              "7     2195\n",
              "8     2045\n",
              "9     1786\n",
              "0      172\n",
              "Name: likes, dtype: int64"
            ]
          },
          "metadata": {
            "tags": []
          },
          "execution_count": 16
        }
      ]
    },
    {
      "cell_type": "code",
      "metadata": {
        "colab": {
          "base_uri": "https://localhost:8080/"
        },
        "id": "ZhXlZn2lCr2i",
        "outputId": "3049b326-d311-422f-e4b9-69213b7ab709"
      },
      "source": [
        "round(df_youtube_primeiro_digito.value_counts(normalize=True)*100,2)"
      ],
      "execution_count": 19,
      "outputs": [
        {
          "output_type": "execute_result",
          "data": {
            "text/plain": [
              "1    31.67\n",
              "2    17.05\n",
              "3    12.36\n",
              "4     9.68\n",
              "5     7.91\n",
              "6     6.18\n",
              "7     5.36\n",
              "8     4.99\n",
              "9     4.36\n",
              "0     0.42\n",
              "Name: likes, dtype: float64"
            ]
          },
          "metadata": {
            "tags": []
          },
          "execution_count": 19
        }
      ]
    },
    {
      "cell_type": "code",
      "metadata": {
        "colab": {
          "base_uri": "https://localhost:8080/",
          "height": 279
        },
        "id": "hqVL7R31DGp5",
        "outputId": "9b360e7b-4ad5-44b6-bcd3-bef6c08add1e"
      },
      "source": [
        "round(df_youtube_primeiro_digito.value_counts(normalize=True)*100,2).plot.bar()"
      ],
      "execution_count": 20,
      "outputs": [
        {
          "output_type": "execute_result",
          "data": {
            "text/plain": [
              "<matplotlib.axes._subplots.AxesSubplot at 0x7f4ddae70128>"
            ]
          },
          "metadata": {
            "tags": []
          },
          "execution_count": 20
        },
        {
          "output_type": "display_data",
          "data": {
            "image/png": "[encoded data removed]",
            "text/plain": [
              "<Figure size 432x288 with 1 Axes>"
            ]
          },
          "metadata": {
            "tags": [],
            "needs_background": "light"
          }
        }
      ]
    },
    {
      "cell_type": "code",
      "metadata": {
        "id": "TXrrbHZYEuTR"
      },
      "source": [
        "def frequencia_digitos(coluna):\r\n",
        "  filtro = coluna.apply(primeiro_digito)!='0'\r\n",
        "  return coluna.loc[filtro].apply(primeiro_digito).value_counts(normalize=True)*100"
      ],
      "execution_count": 47,
      "outputs": []
    },
    {
      "cell_type": "code",
      "metadata": {
        "colab": {
          "base_uri": "https://localhost:8080/"
        },
        "id": "EfzAwOUtKGVB",
        "outputId": "a84d94e1-d360-4b7d-9372-f854fd5e8a80"
      },
      "source": [
        "frequencia_digitos(df_youtube['likes'])#.plot.bar()"
      ],
      "execution_count": 48,
      "outputs": [
        {
          "output_type": "execute_result",
          "data": {
            "text/plain": [
              "1    31.807146\n",
              "2    17.124850\n",
              "3    12.416313\n",
              "4     9.718714\n",
              "5     7.945656\n",
              "6     6.209383\n",
              "7     5.382936\n",
              "8     5.015082\n",
              "9     4.379920\n",
              "Name: likes, dtype: float64"
            ]
          },
          "metadata": {
            "tags": []
          },
          "execution_count": 48
        }
      ]
    },
    {
      "cell_type": "code",
      "metadata": {
        "id": "FdBbLJsTKN8G"
      },
      "source": [
        "filtro = df_youtube['likes'].apply(primeiro_digito)!='0'"
      ],
      "execution_count": 33,
      "outputs": []
    },
    {
      "cell_type": "code",
      "metadata": {
        "colab": {
          "base_uri": "https://localhost:8080/"
        },
        "id": "VX1kytfiM3yD",
        "outputId": "88ab215d-88c2-4f84-d7f0-eebed892e6b9"
      },
      "source": [
        "df_youtube['likes'].loc[filtro]"
      ],
      "execution_count": 34,
      "outputs": [
        {
          "output_type": "execute_result",
          "data": {
            "text/plain": [
              "0         57527\n",
              "1         97185\n",
              "2        146033\n",
              "3         10172\n",
              "4        132235\n",
              "          ...  \n",
              "40944     38160\n",
              "40945     60008\n",
              "40946     48068\n",
              "40947    192957\n",
              "40948    357079\n",
              "Name: likes, Length: 40777, dtype: int64"
            ]
          },
          "metadata": {
            "tags": []
          },
          "execution_count": 34
        }
      ]
    },
    {
      "cell_type": "markdown",
      "metadata": {
        "id": "8Qq_hwosO9sd"
      },
      "source": [
        "Benford's law\r\n",
        "$$log_{10}\\left ( 1 + \\frac{1}{d} \\right )$$\r\n"
      ]
    },
    {
      "cell_type": "code",
      "metadata": {
        "id": "MaiawODvM-NK"
      },
      "source": [
        "import math"
      ],
      "execution_count": 43,
      "outputs": []
    },
    {
      "cell_type": "code",
      "metadata": {
        "colab": {
          "base_uri": "https://localhost:8080/"
        },
        "id": "7z6oq-MFPHiV",
        "outputId": "57e215fa-493b-406d-d740-211bb5eb3ba6"
      },
      "source": [
        "digito=9\r\n",
        "math.log10(1+1/digito)"
      ],
      "execution_count": 45,
      "outputs": [
        {
          "output_type": "execute_result",
          "data": {
            "text/plain": [
              "0.04575749056067514"
            ]
          },
          "metadata": {
            "tags": []
          },
          "execution_count": 45
        }
      ]
    },
    {
      "cell_type": "code",
      "metadata": {
        "id": "FX98lM1pPMaC"
      },
      "source": [
        "projetar=[1,2,3,4,5,6,7,8,9]"
      ],
      "execution_count": 56,
      "outputs": []
    },
    {
      "cell_type": "code",
      "metadata": {
        "colab": {
          "base_uri": "https://localhost:8080/"
        },
        "id": "gvCCDzTXQpKt",
        "outputId": "1fab9535-3b17-470c-fae4-846514038119"
      },
      "source": [
        "projetar"
      ],
      "execution_count": 57,
      "outputs": [
        {
          "output_type": "execute_result",
          "data": {
            "text/plain": [
              "[1, 2, 3, 4, 5, 6, 7, 8, 9]"
            ]
          },
          "metadata": {
            "tags": []
          },
          "execution_count": 57
        }
      ]
    },
    {
      "cell_type": "code",
      "metadata": {
        "colab": {
          "base_uri": "https://localhost:8080/"
        },
        "id": "A0IJTk-GQqLk",
        "outputId": "0e5dbec9-d09e-4b71-9b99-8582772d7da1"
      },
      "source": [
        "[10*digito for digito in projetar]"
      ],
      "execution_count": 58,
      "outputs": [
        {
          "output_type": "execute_result",
          "data": {
            "text/plain": [
              "[10, 20, 30, 40, 50, 60, 70, 80, 90]"
            ]
          },
          "metadata": {
            "tags": []
          },
          "execution_count": 58
        }
      ]
    },
    {
      "cell_type": "code",
      "metadata": {
        "id": "gcNwTNnJRFM_"
      },
      "source": [
        "frequencia_esperada= [math.log10(1+1/digito)*100 for digito in projetar]"
      ],
      "execution_count": 61,
      "outputs": []
    },
    {
      "cell_type": "code",
      "metadata": {
        "colab": {
          "base_uri": "https://localhost:8080/"
        },
        "id": "pRCbgKU3RNvO",
        "outputId": "6cc4d280-e2a0-4c2f-e44d-08743e8bce5f"
      },
      "source": [
        "frequencia_esperada"
      ],
      "execution_count": 62,
      "outputs": [
        {
          "output_type": "execute_result",
          "data": {
            "text/plain": [
              "[30.10299956639812,\n",
              " 17.609125905568124,\n",
              " 12.493873660829992,\n",
              " 9.691001300805642,\n",
              " 7.918124604762482,\n",
              " 6.694678963061322,\n",
              " 5.799194697768673,\n",
              " 5.115252244738129,\n",
              " 4.575749056067514]"
            ]
          },
          "metadata": {
            "tags": []
          },
          "execution_count": 62
        }
      ]
    },
    {
      "cell_type": "code",
      "metadata": {
        "id": "YZVBZ5_nRPQk"
      },
      "source": [
        "coluna=df_youtube['likes']\r\n",
        "df_final=pd.DataFrame(index=[str(digito)for digito in projetar])\r\n",
        "df_final['esperado']=frequencia_esperada\r\n",
        "df_final['real']=frequencia_digitos(coluna)"
      ],
      "execution_count": 63,
      "outputs": []
    },
    {
      "cell_type": "code",
      "metadata": {
        "colab": {
          "base_uri": "https://localhost:8080/",
          "height": 279
        },
        "id": "8DBKw-v7SAGs",
        "outputId": "b21e064a-12bc-490b-8c92-73852f9ca57b"
      },
      "source": [
        "df_final.plot.bar()"
      ],
      "execution_count": 65,
      "outputs": [
        {
          "output_type": "execute_result",
          "data": {
            "text/plain": [
              "<matplotlib.axes._subplots.AxesSubplot at 0x7f4dd97050f0>"
            ]
          },
          "metadata": {
            "tags": []
          },
          "execution_count": 65
        },
        {
          "output_type": "display_data",
          "data": {
            "image/png": "[encoded data removed]",
            "text/plain": [
              "<Figure size 432x288 with 1 Axes>"
            ]
          },
          "metadata": {
            "tags": [],
            "needs_background": "light"
          }
        }
      ]
    },
    {
      "cell_type": "code",
      "metadata": {
        "id": "mnfINuLFSBEz"
      },
      "source": [
        "def benford(coluna):\r\n",
        "  df_final=pd.DataFrame(index=[str(digito)for digito in projetar])\r\n",
        "  df_final['esperado']=frequencia_esperada\r\n",
        "  df_final['real']=frequencia_digitos(coluna)\r\n",
        "  df_final.plot.bar()\r\n",
        "  plt.ylabel('%')\r\n",
        "  plt.xlabel('digitos')\r\n",
        "  return df_final"
      ],
      "execution_count": 71,
      "outputs": []
    },
    {
      "cell_type": "code",
      "metadata": {
        "colab": {
          "base_uri": "https://localhost:8080/",
          "height": 587
        },
        "id": "ikmRAWVQShef",
        "outputId": "dedce20c-82cd-40a6-d1d6-f65f6355cc83"
      },
      "source": [
        "benford(df_youtube['likes'])"
      ],
      "execution_count": 72,
      "outputs": [
        {
          "output_type": "execute_result",
          "data": {
            "text/html": [
              "<div>\n",
              "<style scoped>\n",
              "    .dataframe tbody tr th:only-of-type {\n",
              "        vertical-align: middle;\n",
              "    }\n",
              "\n",
              "    .dataframe tbody tr th {\n",
              "        vertical-align: top;\n",
              "    }\n",
              "\n",
              "    .dataframe thead th {\n",
              "        text-align: right;\n",
              "    }\n",
              "</style>\n",
              "<table border=\"1\" class=\"dataframe\">\n",
              "  <thead>\n",
              "    <tr style=\"text-align: right;\">\n",
              "      <th></th>\n",
              "      <th>esperado</th>\n",
              "      <th>real</th>\n",
              "    </tr>\n",
              "  </thead>\n",
              "  <tbody>\n",
              "    <tr>\n",
              "      <th>1</th>\n",
              "      <td>30.103000</td>\n",
              "      <td>31.807146</td>\n",
              "    </tr>\n",
              "    <tr>\n",
              "      <th>2</th>\n",
              "      <td>17.609126</td>\n",
              "      <td>17.124850</td>\n",
              "    </tr>\n",
              "    <tr>\n",
              "      <th>3</th>\n",
              "      <td>12.493874</td>\n",
              "      <td>12.416313</td>\n",
              "    </tr>\n",
              "    <tr>\n",
              "      <th>4</th>\n",
              "      <td>9.691001</td>\n",
              "      <td>9.718714</td>\n",
              "    </tr>\n",
              "    <tr>\n",
              "      <th>5</th>\n",
              "      <td>7.918125</td>\n",
              "      <td>7.945656</td>\n",
              "    </tr>\n",
              "    <tr>\n",
              "      <th>6</th>\n",
              "      <td>6.694679</td>\n",
              "      <td>6.209383</td>\n",
              "    </tr>\n",
              "    <tr>\n",
              "      <th>7</th>\n",
              "      <td>5.799195</td>\n",
              "      <td>5.382936</td>\n",
              "    </tr>\n",
              "    <tr>\n",
              "      <th>8</th>\n",
              "      <td>5.115252</td>\n",
              "      <td>5.015082</td>\n",
              "    </tr>\n",
              "    <tr>\n",
              "      <th>9</th>\n",
              "      <td>4.575749</td>\n",
              "      <td>4.379920</td>\n",
              "    </tr>\n",
              "  </tbody>\n",
              "</table>\n",
              "</div>"
            ],
            "text/plain": [
              "    esperado       real\n",
              "1  30.103000  31.807146\n",
              "2  17.609126  17.124850\n",
              "3  12.493874  12.416313\n",
              "4   9.691001   9.718714\n",
              "5   7.918125   7.945656\n",
              "6   6.694679   6.209383\n",
              "7   5.799195   5.382936\n",
              "8   5.115252   5.015082\n",
              "9   4.575749   4.379920"
            ]
          },
          "metadata": {
            "tags": []
          },
          "execution_count": 72
        },
        {
          "output_type": "display_data",
          "data": {
            "image/png": "[encoded data removed]",
            "text/plain": [
              "<Figure size 432x288 with 1 Axes>"
            ]
          },
          "metadata": {
            "tags": [],
            "needs_background": "light"
          }
        }
      ]
    },
    {
      "cell_type": "code",
      "metadata": {
        "colab": {
          "base_uri": "https://localhost:8080/",
          "height": 587
        },
        "id": "hzYPBI4qSlI1",
        "outputId": "fa493291-0ee7-4c83-b8c2-3bdbf24ab12e"
      },
      "source": [
        "benford(df_aluguel['property tax'])"
      ],
      "execution_count": 73,
      "outputs": [
        {
          "output_type": "execute_result",
          "data": {
            "text/html": [
              "<div>\n",
              "<style scoped>\n",
              "    .dataframe tbody tr th:only-of-type {\n",
              "        vertical-align: middle;\n",
              "    }\n",
              "\n",
              "    .dataframe tbody tr th {\n",
              "        vertical-align: top;\n",
              "    }\n",
              "\n",
              "    .dataframe thead th {\n",
              "        text-align: right;\n",
              "    }\n",
              "</style>\n",
              "<table border=\"1\" class=\"dataframe\">\n",
              "  <thead>\n",
              "    <tr style=\"text-align: right;\">\n",
              "      <th></th>\n",
              "      <th>esperado</th>\n",
              "      <th>real</th>\n",
              "    </tr>\n",
              "  </thead>\n",
              "  <tbody>\n",
              "    <tr>\n",
              "      <th>1</th>\n",
              "      <td>30.103000</td>\n",
              "      <td>30.58</td>\n",
              "    </tr>\n",
              "    <tr>\n",
              "      <th>2</th>\n",
              "      <td>17.609126</td>\n",
              "      <td>17.40</td>\n",
              "    </tr>\n",
              "    <tr>\n",
              "      <th>3</th>\n",
              "      <td>12.493874</td>\n",
              "      <td>10.96</td>\n",
              "    </tr>\n",
              "    <tr>\n",
              "      <th>4</th>\n",
              "      <td>9.691001</td>\n",
              "      <td>9.88</td>\n",
              "    </tr>\n",
              "    <tr>\n",
              "      <th>5</th>\n",
              "      <td>7.918125</td>\n",
              "      <td>9.46</td>\n",
              "    </tr>\n",
              "    <tr>\n",
              "      <th>6</th>\n",
              "      <td>6.694679</td>\n",
              "      <td>6.08</td>\n",
              "    </tr>\n",
              "    <tr>\n",
              "      <th>7</th>\n",
              "      <td>5.799195</td>\n",
              "      <td>4.96</td>\n",
              "    </tr>\n",
              "    <tr>\n",
              "      <th>8</th>\n",
              "      <td>5.115252</td>\n",
              "      <td>6.48</td>\n",
              "    </tr>\n",
              "    <tr>\n",
              "      <th>9</th>\n",
              "      <td>4.575749</td>\n",
              "      <td>4.20</td>\n",
              "    </tr>\n",
              "  </tbody>\n",
              "</table>\n",
              "</div>"
            ],
            "text/plain": [
              "    esperado   real\n",
              "1  30.103000  30.58\n",
              "2  17.609126  17.40\n",
              "3  12.493874  10.96\n",
              "4   9.691001   9.88\n",
              "5   7.918125   9.46\n",
              "6   6.694679   6.08\n",
              "7   5.799195   4.96\n",
              "8   5.115252   6.48\n",
              "9   4.575749   4.20"
            ]
          },
          "metadata": {
            "tags": []
          },
          "execution_count": 73
        },
        {
          "output_type": "display_data",
          "data": {
            "image/png": "[encoded data removed]",
            "text/plain": [
              "<Figure size 432x288 with 1 Axes>"
            ]
          },
          "metadata": {
            "tags": [],
            "needs_background": "light"
          }
        }
      ]
    },
    {
      "cell_type": "code",
      "metadata": {
        "colab": {
          "base_uri": "https://localhost:8080/",
          "height": 587
        },
        "id": "mogq40KVS9gj",
        "outputId": "c7e40691-febb-4fc1-d46f-a6a4a6aab466"
      },
      "source": [
        "benford(df_covid['Brazil'])"
      ],
      "execution_count": 74,
      "outputs": [
        {
          "output_type": "execute_result",
          "data": {
            "text/html": [
              "<div>\n",
              "<style scoped>\n",
              "    .dataframe tbody tr th:only-of-type {\n",
              "        vertical-align: middle;\n",
              "    }\n",
              "\n",
              "    .dataframe tbody tr th {\n",
              "        vertical-align: top;\n",
              "    }\n",
              "\n",
              "    .dataframe thead th {\n",
              "        text-align: right;\n",
              "    }\n",
              "</style>\n",
              "<table border=\"1\" class=\"dataframe\">\n",
              "  <thead>\n",
              "    <tr style=\"text-align: right;\">\n",
              "      <th></th>\n",
              "      <th>esperado</th>\n",
              "      <th>real</th>\n",
              "    </tr>\n",
              "  </thead>\n",
              "  <tbody>\n",
              "    <tr>\n",
              "      <th>1</th>\n",
              "      <td>30.103000</td>\n",
              "      <td>24.542125</td>\n",
              "    </tr>\n",
              "    <tr>\n",
              "      <th>2</th>\n",
              "      <td>17.609126</td>\n",
              "      <td>21.611722</td>\n",
              "    </tr>\n",
              "    <tr>\n",
              "      <th>3</th>\n",
              "      <td>12.493874</td>\n",
              "      <td>19.780220</td>\n",
              "    </tr>\n",
              "    <tr>\n",
              "      <th>4</th>\n",
              "      <td>9.691001</td>\n",
              "      <td>16.483516</td>\n",
              "    </tr>\n",
              "    <tr>\n",
              "      <th>5</th>\n",
              "      <td>7.918125</td>\n",
              "      <td>9.157509</td>\n",
              "    </tr>\n",
              "    <tr>\n",
              "      <th>6</th>\n",
              "      <td>6.694679</td>\n",
              "      <td>3.663004</td>\n",
              "    </tr>\n",
              "    <tr>\n",
              "      <th>7</th>\n",
              "      <td>5.799195</td>\n",
              "      <td>1.831502</td>\n",
              "    </tr>\n",
              "    <tr>\n",
              "      <th>8</th>\n",
              "      <td>5.115252</td>\n",
              "      <td>1.465201</td>\n",
              "    </tr>\n",
              "    <tr>\n",
              "      <th>9</th>\n",
              "      <td>4.575749</td>\n",
              "      <td>1.465201</td>\n",
              "    </tr>\n",
              "  </tbody>\n",
              "</table>\n",
              "</div>"
            ],
            "text/plain": [
              "    esperado       real\n",
              "1  30.103000  24.542125\n",
              "2  17.609126  21.611722\n",
              "3  12.493874  19.780220\n",
              "4   9.691001  16.483516\n",
              "5   7.918125   9.157509\n",
              "6   6.694679   3.663004\n",
              "7   5.799195   1.831502\n",
              "8   5.115252   1.465201\n",
              "9   4.575749   1.465201"
            ]
          },
          "metadata": {
            "tags": []
          },
          "execution_count": 74
        },
        {
          "output_type": "display_data",
          "data": {
            "image/png": "[encoded data removed]",
            "text/plain": [
              "<Figure size 432x288 with 1 Axes>"
            ]
          },
          "metadata": {
            "tags": [],
            "needs_background": "light"
          }
        }
      ]
    },
    {
      "cell_type": "code",
      "metadata": {
        "colab": {
          "base_uri": "https://localhost:8080/",
          "height": 587
        },
        "id": "c5v0RMTsTD3f",
        "outputId": "ae6cbd6e-0237-42c8-b504-d1331bd58b05"
      },
      "source": [
        "benford(df_covid['Austria'])"
      ],
      "execution_count": 75,
      "outputs": [
        {
          "output_type": "execute_result",
          "data": {
            "text/html": [
              "<div>\n",
              "<style scoped>\n",
              "    .dataframe tbody tr th:only-of-type {\n",
              "        vertical-align: middle;\n",
              "    }\n",
              "\n",
              "    .dataframe tbody tr th {\n",
              "        vertical-align: top;\n",
              "    }\n",
              "\n",
              "    .dataframe thead th {\n",
              "        text-align: right;\n",
              "    }\n",
              "</style>\n",
              "<table border=\"1\" class=\"dataframe\">\n",
              "  <thead>\n",
              "    <tr style=\"text-align: right;\">\n",
              "      <th></th>\n",
              "      <th>esperado</th>\n",
              "      <th>real</th>\n",
              "    </tr>\n",
              "  </thead>\n",
              "  <tbody>\n",
              "    <tr>\n",
              "      <th>1</th>\n",
              "      <td>30.103000</td>\n",
              "      <td>22.183099</td>\n",
              "    </tr>\n",
              "    <tr>\n",
              "      <th>2</th>\n",
              "      <td>17.609126</td>\n",
              "      <td>14.084507</td>\n",
              "    </tr>\n",
              "    <tr>\n",
              "      <th>3</th>\n",
              "      <td>12.493874</td>\n",
              "      <td>15.845070</td>\n",
              "    </tr>\n",
              "    <tr>\n",
              "      <th>4</th>\n",
              "      <td>9.691001</td>\n",
              "      <td>8.450704</td>\n",
              "    </tr>\n",
              "    <tr>\n",
              "      <th>5</th>\n",
              "      <td>7.918125</td>\n",
              "      <td>11.619718</td>\n",
              "    </tr>\n",
              "    <tr>\n",
              "      <th>6</th>\n",
              "      <td>6.694679</td>\n",
              "      <td>8.098592</td>\n",
              "    </tr>\n",
              "    <tr>\n",
              "      <th>7</th>\n",
              "      <td>5.799195</td>\n",
              "      <td>8.802817</td>\n",
              "    </tr>\n",
              "    <tr>\n",
              "      <th>8</th>\n",
              "      <td>5.115252</td>\n",
              "      <td>7.394366</td>\n",
              "    </tr>\n",
              "    <tr>\n",
              "      <th>9</th>\n",
              "      <td>4.575749</td>\n",
              "      <td>3.521127</td>\n",
              "    </tr>\n",
              "  </tbody>\n",
              "</table>\n",
              "</div>"
            ],
            "text/plain": [
              "    esperado       real\n",
              "1  30.103000  22.183099\n",
              "2  17.609126  14.084507\n",
              "3  12.493874  15.845070\n",
              "4   9.691001   8.450704\n",
              "5   7.918125  11.619718\n",
              "6   6.694679   8.098592\n",
              "7   5.799195   8.802817\n",
              "8   5.115252   7.394366\n",
              "9   4.575749   3.521127"
            ]
          },
          "metadata": {
            "tags": []
          },
          "execution_count": 75
        },
        {
          "output_type": "display_data",
          "data": {
            "image/png": "[encoded data removed]",
            "text/plain": [
              "<Figure size 432x288 with 1 Axes>"
            ]
          },
          "metadata": {
            "tags": [],
            "needs_background": "light"
          }
        }
      ]
    },
    {
      "cell_type": "code",
      "metadata": {
        "colab": {
          "base_uri": "https://localhost:8080/",
          "height": 587
        },
        "id": "qxsVgRcMT_hn",
        "outputId": "5783aa74-484a-4825-a7c5-8a005379ce03"
      },
      "source": [
        "benford(df_covid['Argentina'])"
      ],
      "execution_count": 80,
      "outputs": [
        {
          "output_type": "execute_result",
          "data": {
            "text/html": [
              "<div>\n",
              "<style scoped>\n",
              "    .dataframe tbody tr th:only-of-type {\n",
              "        vertical-align: middle;\n",
              "    }\n",
              "\n",
              "    .dataframe tbody tr th {\n",
              "        vertical-align: top;\n",
              "    }\n",
              "\n",
              "    .dataframe thead th {\n",
              "        text-align: right;\n",
              "    }\n",
              "</style>\n",
              "<table border=\"1\" class=\"dataframe\">\n",
              "  <thead>\n",
              "    <tr style=\"text-align: right;\">\n",
              "      <th></th>\n",
              "      <th>esperado</th>\n",
              "      <th>real</th>\n",
              "    </tr>\n",
              "  </thead>\n",
              "  <tbody>\n",
              "    <tr>\n",
              "      <th>1</th>\n",
              "      <td>30.103000</td>\n",
              "      <td>40.221402</td>\n",
              "    </tr>\n",
              "    <tr>\n",
              "      <th>2</th>\n",
              "      <td>17.609126</td>\n",
              "      <td>9.963100</td>\n",
              "    </tr>\n",
              "    <tr>\n",
              "      <th>3</th>\n",
              "      <td>12.493874</td>\n",
              "      <td>6.273063</td>\n",
              "    </tr>\n",
              "    <tr>\n",
              "      <th>4</th>\n",
              "      <td>9.691001</td>\n",
              "      <td>5.535055</td>\n",
              "    </tr>\n",
              "    <tr>\n",
              "      <th>5</th>\n",
              "      <td>7.918125</td>\n",
              "      <td>7.011070</td>\n",
              "    </tr>\n",
              "    <tr>\n",
              "      <th>6</th>\n",
              "      <td>6.694679</td>\n",
              "      <td>6.642066</td>\n",
              "    </tr>\n",
              "    <tr>\n",
              "      <th>7</th>\n",
              "      <td>5.799195</td>\n",
              "      <td>9.963100</td>\n",
              "    </tr>\n",
              "    <tr>\n",
              "      <th>8</th>\n",
              "      <td>5.115252</td>\n",
              "      <td>7.380074</td>\n",
              "    </tr>\n",
              "    <tr>\n",
              "      <th>9</th>\n",
              "      <td>4.575749</td>\n",
              "      <td>7.011070</td>\n",
              "    </tr>\n",
              "  </tbody>\n",
              "</table>\n",
              "</div>"
            ],
            "text/plain": [
              "    esperado       real\n",
              "1  30.103000  40.221402\n",
              "2  17.609126   9.963100\n",
              "3  12.493874   6.273063\n",
              "4   9.691001   5.535055\n",
              "5   7.918125   7.011070\n",
              "6   6.694679   6.642066\n",
              "7   5.799195   9.963100\n",
              "8   5.115252   7.380074\n",
              "9   4.575749   7.011070"
            ]
          },
          "metadata": {
            "tags": []
          },
          "execution_count": 80
        },
        {
          "output_type": "display_data",
          "data": {
            "image/png": "[encoded data removed]",
            "text/plain": [
              "<Figure size 432x288 with 1 Axes>"
            ]
          },
          "metadata": {
            "tags": [],
            "needs_background": "light"
          }
        }
      ]
    },
    {
      "cell_type": "code",
      "metadata": {
        "colab": {
          "base_uri": "https://localhost:8080/",
          "height": 587
        },
        "id": "KngA0XDzUG19",
        "outputId": "b8f4b309-d925-4cd8-85d0-10baf86fc12c"
      },
      "source": [
        "benford(df_covid['Belgium'])"
      ],
      "execution_count": 81,
      "outputs": [
        {
          "output_type": "execute_result",
          "data": {
            "text/html": [
              "<div>\n",
              "<style scoped>\n",
              "    .dataframe tbody tr th:only-of-type {\n",
              "        vertical-align: middle;\n",
              "    }\n",
              "\n",
              "    .dataframe tbody tr th {\n",
              "        vertical-align: top;\n",
              "    }\n",
              "\n",
              "    .dataframe thead th {\n",
              "        text-align: right;\n",
              "    }\n",
              "</style>\n",
              "<table border=\"1\" class=\"dataframe\">\n",
              "  <thead>\n",
              "    <tr style=\"text-align: right;\">\n",
              "      <th></th>\n",
              "      <th>esperado</th>\n",
              "      <th>real</th>\n",
              "    </tr>\n",
              "  </thead>\n",
              "  <tbody>\n",
              "    <tr>\n",
              "      <th>1</th>\n",
              "      <td>30.103000</td>\n",
              "      <td>32.971014</td>\n",
              "    </tr>\n",
              "    <tr>\n",
              "      <th>2</th>\n",
              "      <td>17.609126</td>\n",
              "      <td>15.217391</td>\n",
              "    </tr>\n",
              "    <tr>\n",
              "      <th>3</th>\n",
              "      <td>12.493874</td>\n",
              "      <td>10.869565</td>\n",
              "    </tr>\n",
              "    <tr>\n",
              "      <th>4</th>\n",
              "      <td>9.691001</td>\n",
              "      <td>7.608696</td>\n",
              "    </tr>\n",
              "    <tr>\n",
              "      <th>5</th>\n",
              "      <td>7.918125</td>\n",
              "      <td>9.420290</td>\n",
              "    </tr>\n",
              "    <tr>\n",
              "      <th>6</th>\n",
              "      <td>6.694679</td>\n",
              "      <td>8.333333</td>\n",
              "    </tr>\n",
              "    <tr>\n",
              "      <th>7</th>\n",
              "      <td>5.799195</td>\n",
              "      <td>4.710145</td>\n",
              "    </tr>\n",
              "    <tr>\n",
              "      <th>8</th>\n",
              "      <td>5.115252</td>\n",
              "      <td>5.797101</td>\n",
              "    </tr>\n",
              "    <tr>\n",
              "      <th>9</th>\n",
              "      <td>4.575749</td>\n",
              "      <td>5.072464</td>\n",
              "    </tr>\n",
              "  </tbody>\n",
              "</table>\n",
              "</div>"
            ],
            "text/plain": [
              "    esperado       real\n",
              "1  30.103000  32.971014\n",
              "2  17.609126  15.217391\n",
              "3  12.493874  10.869565\n",
              "4   9.691001   7.608696\n",
              "5   7.918125   9.420290\n",
              "6   6.694679   8.333333\n",
              "7   5.799195   4.710145\n",
              "8   5.115252   5.797101\n",
              "9   4.575749   5.072464"
            ]
          },
          "metadata": {
            "tags": []
          },
          "execution_count": 81
        },
        {
          "output_type": "display_data",
          "data": {
            "image/png": "[encoded data removed]",
            "text/plain": [
              "<Figure size 432x288 with 1 Axes>"
            ]
          },
          "metadata": {
            "tags": [],
            "needs_background": "light"
          }
        }
      ]
    },
    {
      "cell_type": "code",
      "metadata": {
        "colab": {
          "base_uri": "https://localhost:8080/",
          "height": 587
        },
        "id": "8cmuWu50TUsh",
        "outputId": "d017effa-71b8-4f82-ac28-4c3a75da9f7a"
      },
      "source": [
        "benford(df_ecommerce_1['payment_value'])"
      ],
      "execution_count": 76,
      "outputs": [
        {
          "output_type": "execute_result",
          "data": {
            "text/html": [
              "<div>\n",
              "<style scoped>\n",
              "    .dataframe tbody tr th:only-of-type {\n",
              "        vertical-align: middle;\n",
              "    }\n",
              "\n",
              "    .dataframe tbody tr th {\n",
              "        vertical-align: top;\n",
              "    }\n",
              "\n",
              "    .dataframe thead th {\n",
              "        text-align: right;\n",
              "    }\n",
              "</style>\n",
              "<table border=\"1\" class=\"dataframe\">\n",
              "  <thead>\n",
              "    <tr style=\"text-align: right;\">\n",
              "      <th></th>\n",
              "      <th>esperado</th>\n",
              "      <th>real</th>\n",
              "    </tr>\n",
              "  </thead>\n",
              "  <tbody>\n",
              "    <tr>\n",
              "      <th>1</th>\n",
              "      <td>30.103000</td>\n",
              "      <td>33.246240</td>\n",
              "    </tr>\n",
              "    <tr>\n",
              "      <th>2</th>\n",
              "      <td>17.609126</td>\n",
              "      <td>13.889317</td>\n",
              "    </tr>\n",
              "    <tr>\n",
              "      <th>3</th>\n",
              "      <td>12.493874</td>\n",
              "      <td>10.789626</td>\n",
              "    </tr>\n",
              "    <tr>\n",
              "      <th>4</th>\n",
              "      <td>9.691001</td>\n",
              "      <td>8.710953</td>\n",
              "    </tr>\n",
              "    <tr>\n",
              "      <th>5</th>\n",
              "      <td>7.918125</td>\n",
              "      <td>7.921327</td>\n",
              "    </tr>\n",
              "    <tr>\n",
              "      <th>6</th>\n",
              "      <td>6.694679</td>\n",
              "      <td>7.927111</td>\n",
              "    </tr>\n",
              "    <tr>\n",
              "      <th>7</th>\n",
              "      <td>5.799195</td>\n",
              "      <td>6.644813</td>\n",
              "    </tr>\n",
              "    <tr>\n",
              "      <th>8</th>\n",
              "      <td>5.115252</td>\n",
              "      <td>5.793482</td>\n",
              "    </tr>\n",
              "    <tr>\n",
              "      <th>9</th>\n",
              "      <td>4.575749</td>\n",
              "      <td>5.077131</td>\n",
              "    </tr>\n",
              "  </tbody>\n",
              "</table>\n",
              "</div>"
            ],
            "text/plain": [
              "    esperado       real\n",
              "1  30.103000  33.246240\n",
              "2  17.609126  13.889317\n",
              "3  12.493874  10.789626\n",
              "4   9.691001   8.710953\n",
              "5   7.918125   7.921327\n",
              "6   6.694679   7.927111\n",
              "7   5.799195   6.644813\n",
              "8   5.115252   5.793482\n",
              "9   4.575749   5.077131"
            ]
          },
          "metadata": {
            "tags": []
          },
          "execution_count": 76
        },
        {
          "output_type": "display_data",
          "data": {
            "image/png": "[encoded data removed]",
            "text/plain": [
              "<Figure size 432x288 with 1 Axes>"
            ]
          },
          "metadata": {
            "tags": [],
            "needs_background": "light"
          }
        }
      ]
    },
    {
      "cell_type": "code",
      "metadata": {
        "colab": {
          "base_uri": "https://localhost:8080/",
          "height": 587
        },
        "id": "PHNwTmO8Tcaj",
        "outputId": "7247b1a2-5e5e-48d2-bebe-71fe7d5f54a6"
      },
      "source": [
        "benford(df_ecommerce_2['product_description_lenght'])"
      ],
      "execution_count": 77,
      "outputs": [
        {
          "output_type": "execute_result",
          "data": {
            "text/html": [
              "<div>\n",
              "<style scoped>\n",
              "    .dataframe tbody tr th:only-of-type {\n",
              "        vertical-align: middle;\n",
              "    }\n",
              "\n",
              "    .dataframe tbody tr th {\n",
              "        vertical-align: top;\n",
              "    }\n",
              "\n",
              "    .dataframe thead th {\n",
              "        text-align: right;\n",
              "    }\n",
              "</style>\n",
              "<table border=\"1\" class=\"dataframe\">\n",
              "  <thead>\n",
              "    <tr style=\"text-align: right;\">\n",
              "      <th></th>\n",
              "      <th>esperado</th>\n",
              "      <th>real</th>\n",
              "    </tr>\n",
              "  </thead>\n",
              "  <tbody>\n",
              "    <tr>\n",
              "      <th>1</th>\n",
              "      <td>30.103000</td>\n",
              "      <td>25.437771</td>\n",
              "    </tr>\n",
              "    <tr>\n",
              "      <th>2</th>\n",
              "      <td>17.609126</td>\n",
              "      <td>15.286334</td>\n",
              "    </tr>\n",
              "    <tr>\n",
              "      <th>3</th>\n",
              "      <td>12.493874</td>\n",
              "      <td>12.078541</td>\n",
              "    </tr>\n",
              "    <tr>\n",
              "      <th>4</th>\n",
              "      <td>9.691001</td>\n",
              "      <td>9.978453</td>\n",
              "    </tr>\n",
              "    <tr>\n",
              "      <th>5</th>\n",
              "      <td>7.918125</td>\n",
              "      <td>9.080149</td>\n",
              "    </tr>\n",
              "    <tr>\n",
              "      <th>6</th>\n",
              "      <td>6.694679</td>\n",
              "      <td>8.360900</td>\n",
              "    </tr>\n",
              "    <tr>\n",
              "      <th>7</th>\n",
              "      <td>5.799195</td>\n",
              "      <td>7.089314</td>\n",
              "    </tr>\n",
              "    <tr>\n",
              "      <th>8</th>\n",
              "      <td>5.115252</td>\n",
              "      <td>6.036236</td>\n",
              "    </tr>\n",
              "    <tr>\n",
              "      <th>9</th>\n",
              "      <td>4.575749</td>\n",
              "      <td>4.801068</td>\n",
              "    </tr>\n",
              "  </tbody>\n",
              "</table>\n",
              "</div>"
            ],
            "text/plain": [
              "    esperado       real\n",
              "1  30.103000  25.437771\n",
              "2  17.609126  15.286334\n",
              "3  12.493874  12.078541\n",
              "4   9.691001   9.978453\n",
              "5   7.918125   9.080149\n",
              "6   6.694679   8.360900\n",
              "7   5.799195   7.089314\n",
              "8   5.115252   6.036236\n",
              "9   4.575749   4.801068"
            ]
          },
          "metadata": {
            "tags": []
          },
          "execution_count": 77
        },
        {
          "output_type": "display_data",
          "data": {
            "image/png": "[encoded data removed]",
            "text/plain": [
              "<Figure size 432x288 with 1 Axes>"
            ]
          },
          "metadata": {
            "tags": [],
            "needs_background": "light"
          }
        }
      ]
    },
    {
      "cell_type": "code",
      "metadata": {
        "colab": {
          "base_uri": "https://localhost:8080/",
          "height": 587
        },
        "id": "w39QRERcTnsm",
        "outputId": "67d14599-20a6-45a1-b930-6961c0a95282"
      },
      "source": [
        "benford(df_livros['Price'])"
      ],
      "execution_count": 78,
      "outputs": [
        {
          "output_type": "execute_result",
          "data": {
            "text/html": [
              "<div>\n",
              "<style scoped>\n",
              "    .dataframe tbody tr th:only-of-type {\n",
              "        vertical-align: middle;\n",
              "    }\n",
              "\n",
              "    .dataframe tbody tr th {\n",
              "        vertical-align: top;\n",
              "    }\n",
              "\n",
              "    .dataframe thead th {\n",
              "        text-align: right;\n",
              "    }\n",
              "</style>\n",
              "<table border=\"1\" class=\"dataframe\">\n",
              "  <thead>\n",
              "    <tr style=\"text-align: right;\">\n",
              "      <th></th>\n",
              "      <th>esperado</th>\n",
              "      <th>real</th>\n",
              "    </tr>\n",
              "  </thead>\n",
              "  <tbody>\n",
              "    <tr>\n",
              "      <th>1</th>\n",
              "      <td>30.103000</td>\n",
              "      <td>15.498155</td>\n",
              "    </tr>\n",
              "    <tr>\n",
              "      <th>2</th>\n",
              "      <td>17.609126</td>\n",
              "      <td>16.605166</td>\n",
              "    </tr>\n",
              "    <tr>\n",
              "      <th>3</th>\n",
              "      <td>12.493874</td>\n",
              "      <td>12.177122</td>\n",
              "    </tr>\n",
              "    <tr>\n",
              "      <th>4</th>\n",
              "      <td>9.691001</td>\n",
              "      <td>16.974170</td>\n",
              "    </tr>\n",
              "    <tr>\n",
              "      <th>5</th>\n",
              "      <td>7.918125</td>\n",
              "      <td>12.546125</td>\n",
              "    </tr>\n",
              "    <tr>\n",
              "      <th>6</th>\n",
              "      <td>6.694679</td>\n",
              "      <td>10.332103</td>\n",
              "    </tr>\n",
              "    <tr>\n",
              "      <th>7</th>\n",
              "      <td>5.799195</td>\n",
              "      <td>4.797048</td>\n",
              "    </tr>\n",
              "    <tr>\n",
              "      <th>8</th>\n",
              "      <td>5.115252</td>\n",
              "      <td>5.535055</td>\n",
              "    </tr>\n",
              "    <tr>\n",
              "      <th>9</th>\n",
              "      <td>4.575749</td>\n",
              "      <td>5.535055</td>\n",
              "    </tr>\n",
              "  </tbody>\n",
              "</table>\n",
              "</div>"
            ],
            "text/plain": [
              "    esperado       real\n",
              "1  30.103000  15.498155\n",
              "2  17.609126  16.605166\n",
              "3  12.493874  12.177122\n",
              "4   9.691001  16.974170\n",
              "5   7.918125  12.546125\n",
              "6   6.694679  10.332103\n",
              "7   5.799195   4.797048\n",
              "8   5.115252   5.535055\n",
              "9   4.575749   5.535055"
            ]
          },
          "metadata": {
            "tags": []
          },
          "execution_count": 78
        },
        {
          "output_type": "display_data",
          "data": {
            "image/png": "[encoded data removed]",
            "text/plain": [
              "<Figure size 432x288 with 1 Axes>"
            ]
          },
          "metadata": {
            "tags": [],
            "needs_background": "light"
          }
        }
      ]
    },
    {
      "cell_type": "code",
      "metadata": {
        "colab": {
          "base_uri": "https://localhost:8080/",
          "height": 587
        },
        "id": "qI1YUnqQTuz9",
        "outputId": "6134a3a7-340e-40d5-fb59-50d79479e3ae"
      },
      "source": [
        "benford(df_livros['Reviews'])"
      ],
      "execution_count": 79,
      "outputs": [
        {
          "output_type": "execute_result",
          "data": {
            "text/html": [
              "<div>\n",
              "<style scoped>\n",
              "    .dataframe tbody tr th:only-of-type {\n",
              "        vertical-align: middle;\n",
              "    }\n",
              "\n",
              "    .dataframe tbody tr th {\n",
              "        vertical-align: top;\n",
              "    }\n",
              "\n",
              "    .dataframe thead th {\n",
              "        text-align: right;\n",
              "    }\n",
              "</style>\n",
              "<table border=\"1\" class=\"dataframe\">\n",
              "  <thead>\n",
              "    <tr style=\"text-align: right;\">\n",
              "      <th></th>\n",
              "      <th>esperado</th>\n",
              "      <th>real</th>\n",
              "    </tr>\n",
              "  </thead>\n",
              "  <tbody>\n",
              "    <tr>\n",
              "      <th>1</th>\n",
              "      <td>30.103000</td>\n",
              "      <td>32.931727</td>\n",
              "    </tr>\n",
              "    <tr>\n",
              "      <th>2</th>\n",
              "      <td>17.609126</td>\n",
              "      <td>15.662651</td>\n",
              "    </tr>\n",
              "    <tr>\n",
              "      <th>3</th>\n",
              "      <td>12.493874</td>\n",
              "      <td>14.056225</td>\n",
              "    </tr>\n",
              "    <tr>\n",
              "      <th>4</th>\n",
              "      <td>9.691001</td>\n",
              "      <td>10.040161</td>\n",
              "    </tr>\n",
              "    <tr>\n",
              "      <th>5</th>\n",
              "      <td>7.918125</td>\n",
              "      <td>12.048193</td>\n",
              "    </tr>\n",
              "    <tr>\n",
              "      <th>6</th>\n",
              "      <td>6.694679</td>\n",
              "      <td>5.622490</td>\n",
              "    </tr>\n",
              "    <tr>\n",
              "      <th>7</th>\n",
              "      <td>5.799195</td>\n",
              "      <td>4.016064</td>\n",
              "    </tr>\n",
              "    <tr>\n",
              "      <th>8</th>\n",
              "      <td>5.115252</td>\n",
              "      <td>2.811245</td>\n",
              "    </tr>\n",
              "    <tr>\n",
              "      <th>9</th>\n",
              "      <td>4.575749</td>\n",
              "      <td>2.811245</td>\n",
              "    </tr>\n",
              "  </tbody>\n",
              "</table>\n",
              "</div>"
            ],
            "text/plain": [
              "    esperado       real\n",
              "1  30.103000  32.931727\n",
              "2  17.609126  15.662651\n",
              "3  12.493874  14.056225\n",
              "4   9.691001  10.040161\n",
              "5   7.918125  12.048193\n",
              "6   6.694679   5.622490\n",
              "7   5.799195   4.016064\n",
              "8   5.115252   2.811245\n",
              "9   4.575749   2.811245"
            ]
          },
          "metadata": {
            "tags": []
          },
          "execution_count": 79
        },
        {
          "output_type": "display_data",
          "data": {
            "image/png": "[encoded data removed]",
            "text/plain": [
              "<Figure size 432x288 with 1 Axes>"
            ]
          },
          "metadata": {
            "tags": [],
            "needs_background": "light"
          }
        }
      ]
    },
    {
      "cell_type": "code",
      "metadata": {
        "id": "kNnAHhF0TzDq"
      },
      "source": [
        ""
      ],
      "execution_count": null,
      "outputs": []
    }
  ]
}